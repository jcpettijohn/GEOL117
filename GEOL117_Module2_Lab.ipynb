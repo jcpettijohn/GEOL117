{
  "cells": [
    {
      "cell_type": "markdown",
      "metadata": {
        "id": "BrJ9o6zmkROH"
      },
      "source": [
        "# Module 2 - Seafloor Spreading Rates Using Magnetic Anomalies\n",
        "\n",
        "---\n",
        "\n",
        "## Objective\n",
        "Explore the concept of magnetic anomalies on the ocean floor, understand their relationship to seafloor spreading, and calculate spreading rates using synthetic data.\n",
        "\n",
        "---\n",
        "\n",
        "## 1. Introduction\n",
        "\n",
        "The Earth's crust is not a static, monolithic structure. Instead, it consists of various tectonic plates that float on the semi-fluid asthenosphere below. This theory, known as **Plate Tectonics**, posits that these plates are in continuous motion.\n",
        "\n",
        "One of the primary locations where these plates move apart is at the **mid-ocean ridges**. These underwater mountain ranges are sites where new oceanic crust is formed through volcanic activity. As magma rises to the surface, it solidifies, becoming part of the expanding seafloor.\n",
        "\n",
        "An intriguing aspect is the periodic reversals of the Earth's magnetic field, termed **geomagnetic reversals**. As molten rock solidifies at these ridges, the magnetic minerals within align with the current direction of the Earth's magnetic field. This alignment creates a pattern of magnetic anomalies on the ocean floor, parallel to the ridge, recording the history of these magnetic reversals.\n",
        "\n",
        "Through the study of these magnetic anomaly patterns, we can determine the rate of seafloor spreading and gain insights into plate tectonics' dynamics.\n"
      ]
    },
    {
      "cell_type": "markdown",
      "metadata": {
        "id": "uz8-ieNIrMyD"
      },
      "source": [
        "## 2. Data Preparation\n",
        "\n",
        "Before we delve into synthetic data generation, it's crucial to understand the tools at our disposal. In Python, libraries are pre-written pieces of code that provide functionality to perform specific tasks, so we don't have to write everything from scratch. Here, we'll be discussing three widely-used libraries in data science: `numpy`, `pandas`, and `matplotlib`.\n",
        "\n",
        "---\n",
        "\n",
        "### Numpy (`np`)\n",
        "\n",
        "**What is it?**\n",
        "Numpy, which stands for 'Numerical Python', is the foundational package for numerical computations in Python. It provides support for arrays (including multidimensional arrays), as well as an assortment of mathematical functions to operate on these arrays. With Numpy, scientific and mathematical computations are simpler and faster.\n",
        "\n",
        "**Why do we need it in this script?**\n",
        "In the context of data generation or manipulation, Numpy provides the tools to create arrays of synthetic data, perform mathematical operations on them, and even sample from various probability distributions.\n",
        "\n",
        "---\n",
        "\n",
        "### Pandas (`pd`)\n",
        "\n",
        "**What is it?**\n",
        "Pandas provides high-level data structures and methods designed to make data analysis fast and easy in Python. Its key data structure is called DataFrame, which you can think of as an in-memory 2D table (like a spreadsheet), with labeled axes (rows and columns).\n",
        "\n",
        "**Why do we need it in this script?**\n",
        "For any data-intensive task, a structured format is essential for efficient manipulation, aggregation, and visualization. Pandas' DataFrame is ideal for such operations. In the script, if we're managing datasets or tabular data, Pandas will likely be our tool of choice.\n",
        "\n",
        "---\n",
        "\n",
        "### Matplotlib (`plt`)\n",
        "\n",
        "**What is it?**\n",
        "Matplotlib is a plotting library for Python. It provides an object-oriented API for embedding plots into applications that use general-purpose GUI toolkits, like Tkinter, wxPython, or PyQt.\n",
        "\n",
        "**Why do we need it in this script?**\n",
        "Visualization is a key component of data analysis. Once we've generated or manipulated data, we often need to visualize the data to understand patterns, distributions, or anomalies. Matplotlib allows us to create various plots and visualizations, from histograms to scatter plots, helping in both exploratory and explanatory data analysis.\n",
        "\n",
        "---\n",
        "\n",
        "\n",
        "### Start by importing the necessary libraries:"
      ]
    },
    {
      "cell_type": "code",
      "execution_count": null,
      "metadata": {
        "id": "AOslhekisEi_"
      },
      "outputs": [],
      "source": [
        "import numpy as np\n",
        "import pandas as pd\n",
        "import matplotlib.pyplot as plt\n"
      ]
    },
    {
      "cell_type": "markdown",
      "metadata": {
        "id": "br1qFw2dtrOz"
      },
      "source": [
        "## Simple Data Creation in Python\n",
        "Before we dive deep into creating synthetic data for spreading ridges, it's essential to understand how to create simple datasets in Python. This section will serve as a foundation and introduce you to some basic principles.\n",
        "\n",
        "## Why Create Synthetic Data?\n",
        "Creating synthetic data is a powerful way to simulate real-world scenarios without relying on real-world data. This is especially useful:\n",
        "\n",
        "\n",
        "*   When real-world data is scarce or unavailable.\n",
        "*   To test algorithms or models in a controlled environment.\n",
        "*   To protect privacy and sensitive information by not using actual data.\n",
        "\n",
        "## Let's Start Simple: Generating Random Numbers\n",
        "\n",
        "Python provides numerous libraries to generate random numbers. For our example, we'll be using the numpy library, which we've already imported as np.\n",
        "\n",
        "## Generating a Single Random Number\n",
        "To generate a single random number between 0 and 1, we can use the np.random.rand() function.\n",
        "\n"
      ]
    },
    {
      "cell_type": "code",
      "execution_count": null,
      "metadata": {
        "id": "YyW51ZwPt_UB"
      },
      "outputs": [],
      "source": [
        "random_number = np.random.rand()\n",
        "print(random_number)\n"
      ]
    },
    {
      "cell_type": "markdown",
      "metadata": {
        "id": "jGoDasHauA8N"
      },
      "source": [
        "## Generating an Array of Random Numbers\n",
        "To generate multiple random numbers, specify the desired quantity:"
      ]
    },
    {
      "cell_type": "code",
      "execution_count": null,
      "metadata": {
        "id": "-Npmij_7uGqZ"
      },
      "outputs": [],
      "source": [
        "random_numbers = np.random.rand(5)  # Generates 5 random numbers\n",
        "print(random_numbers)\n"
      ]
    },
    {
      "cell_type": "markdown",
      "metadata": {
        "id": "t9ApxtbfuJ45"
      },
      "source": [
        "## Creating a Simple Dataset: Random Heights of People\n",
        "Imagine we want to create a dataset representing the heights of 100 people. We can assume an average height of 170 cm with a standard deviation of 15 cm."
      ]
    },
    {
      "cell_type": "code",
      "execution_count": null,
      "metadata": {
        "id": "aKDXpOmVuNSn"
      },
      "outputs": [],
      "source": [
        "average_height = 170  # in cm\n",
        "std_deviation = 15  # standard deviation\n",
        "num_people = 100\n",
        "\n",
        "heights = np.random.normal(average_height, std_deviation, num_people)\n",
        "print(heights)\n"
      ]
    },
    {
      "cell_type": "markdown",
      "metadata": {
        "id": "ZdIqxPeWuRS4"
      },
      "source": [
        "This will generate 100 random heights around the average value.\n",
        "\n",
        "## Visualizing Our Data\n",
        "Now that we've generated our simple dataset, it would be beneficial to visualize it to get a better understanding.\n",
        "\n",
        "## Using Histograms for Visualization\n",
        "Histograms are great tools for understanding the distribution of data. Here, we'll use matplotlib, which we imported earlier as plt."
      ]
    },
    {
      "cell_type": "code",
      "execution_count": null,
      "metadata": {
        "id": "qzz2lbwtugWd"
      },
      "outputs": [],
      "source": [
        "plt.hist(heights, bins=20, color='blue', alpha=0.7)\n",
        "plt.title('Distribution of Heights')\n",
        "plt.xlabel('Height (cm)')\n",
        "plt.ylabel('Number of People')\n",
        "plt.grid(True)\n",
        "plt.show()\n"
      ]
    },
    {
      "cell_type": "markdown",
      "metadata": {
        "id": "bYGLi2LNFXfi"
      },
      "source": [
        "## Section 3: Introduction to Synthetic Data Generation for Seafloor Spreading\n",
        "\n",
        "### Why Synthetic Data?\n",
        "When studying phenomena like seafloor spreading, real-world data can sometimes be scarce, difficult to access, or not comprehensive enough for a detailed study. Synthetic data, which is data that is artificially generated rather than collected from real-world events, can provide an invaluable tool for understanding complex processes and testing hypotheses.\n",
        "\n",
        "For our study of seafloor spreading, synthetic data allows us to:\n",
        "- Simulate different types of spreading centers (fast or slow) to study their characteristics.\n",
        "- Understand the relationship between the distance from the ridge axis and the magnetic polarity of the rocks.\n",
        "- Provide a consistent dataset for all students, ensuring everyone has the same starting point.\n",
        "\n",
        "### The Equations Behind the Synthetic Data\n",
        "The magnetic anomalies in the synthetic data are represented as alternating magnetic polarities (-1 and 1). The distance between these anomalies is determined based on the spreading rate. Here are the primary equations used in the data generation:\n",
        "\n",
        "#### Polarity Generation:\n",
        "$$\n",
        "Polarity = (-1)^n\n",
        "$$\n",
        "Where \\( n \\) is the nth anomaly from the ridge axis.\n",
        "\n",
        "#### Distance Calculation:\n",
        "$$\n",
        "Distance = \\text{Cumulative Sum of Random Width}\n",
        "$$\n",
        "\n",
        "The width of each anomaly is randomly chosen within a given range, representing different spreading rates.\n",
        "\n",
        "## Generating the Synthetic Data\n",
        "\n",
        "Now that we understand the importance of synthetic data and the mathematical formulations behind it, let's move on to the practical aspect. We'll use a Python script to generate synthetic magnetic anomaly data for seafloor spreading. This script will produce data for both slow-spreading and fast-spreading centers, allowing us to compare and contrast their characteristics.\n",
        "\n",
        "Execute the script below to visualize the generated data.\n"
      ]
    },
    {
      "cell_type": "markdown",
      "metadata": {
        "id": "_vHnVKoMopuu"
      },
      "source": [
        "## Adding Age to Our Synthetic Data\n",
        "One crucial aspect of seafloor spreading that our synthetic data will account for is the age of the seafloor as we move away from the ridge axis. As new magma rises and solidifies at the ridge, it pushes the older seafloor outwards in both directions. This means that the seafloor is youngest at the ridge and gets progressively older as we move away from it.\n",
        "\n",
        "To incorporate age into our data, we make the following considerations:\n",
        "\n",
        "**Magnetic Field Reversals**: The Earth's magnetic field has reversed many times in its history. We use these reversals to help determine the age of the seafloor. When magma solidifies at the ridge, it locks in the current magnetic polarity. By looking at the sequence of magnetic polarities in the rocks, we can get an idea of the history of magnetic field reversals.\n",
        "\n",
        "**Age Estimation**: We associate each magnetic reversal with an age. For simplicity, in our synthetic data, we'll assume that these reversals occur randomly between every 0.1 to 1 million years. Therefore, as we move away from the ridge and encounter different magnetic polarities, we're essentially moving back in time through Earth's magnetic history.\n",
        "\n",
        "The age data will allow us to make more detailed analyses, such as plotting age against distance from the ridge. This will give us a visual representation of how the age of the seafloor increases as we move away from the spreading center, a key concept in the study of seafloor spreading.\n",
        "\n",
        "With this understanding, let's dive into the code that generates our synthetic data with incorporated age values.\n",
        "\n",
        "# First, please enter your name, and netID:"
      ]
    },
    {
      "cell_type": "code",
      "execution_count": null,
      "metadata": {},
      "outputs": [],
      "source": [
        "first_name = input(\"Please enter your first name: \")\n",
        "last_name = input(\"Please enter your last name: \")\n",
        "netID = input(\"Please enter your netID: \")"
      ]
    },
    {
      "cell_type": "code",
      "execution_count": null,
      "metadata": {
        "id": "r-tWZMmaov-7"
      },
      "outputs": [],
      "source": [
        "import numpy as np\n",
        "import pandas as pd\n",
        "\n",
        "def generate_magnetic_data(spreading_rate=\"slow\", num_anomalies=100):\n",
        "    \"\"\"\n",
        "    Generates synthetic magnetic anomaly data.\n",
        "\n",
        "    Parameters:\n",
        "    - spreading_rate: \"slow\" or \"fast\"\n",
        "    - num_anomalies: Number of magnetic anomalies\n",
        "\n",
        "    Returns:\n",
        "    - DataFrame with distance from ridge axis, magnetic polarity, and associated ages.\n",
        "    \"\"\"\n",
        "\n",
        "    # Set the range of widths for the magnetic anomalies based on the spreading rate\n",
        "    if spreading_rate == \"fast\":\n",
        "        anomaly_width_range = (15, 25)\n",
        "    else:\n",
        "        anomaly_width_range = (5, 15)\n",
        "\n",
        "    # Generate a sequence of alternating magnetic polarities\n",
        "    polarities = np.tile([1, -1], num_anomalies // 2)\n",
        "\n",
        "    # Create distances for each magnetic anomaly\n",
        "    distances = np.cumsum(np.random.uniform(anomaly_width_range[0], anomaly_width_range[1], num_anomalies))\n",
        "\n",
        "    # Generate ages for the magnetic reversals. Let's assume these reversals occur randomly between 0.1 and 1 mya apart\n",
        "    reversal_ages = np.cumsum(np.random.uniform(0.1, 1.0, num_anomalies))\n",
        "\n",
        "    # Convert the generated data into a DataFrame\n",
        "    df = pd.DataFrame({\n",
        "        'Distance_from_Ridge_km': distances,\n",
        "        'Magnetic_Polarity': polarities,\n",
        "        'Age_mya': reversal_ages\n",
        "    })\n",
        "\n",
        "    return df\n",
        "\n",
        "# Generate magnetic data for slow and fast spreading rates\n",
        "slow_spreading_data = generate_magnetic_data(spreading_rate=\"slow\")\n",
        "fast_spreading_data = generate_magnetic_data(spreading_rate=\"fast\")\n",
        "\n",
        "print(\"synthetic data generated successfully,\",first_name)"
      ]
    },
    {
      "cell_type": "markdown",
      "metadata": {
        "id": "tJyMgxz2pKfV"
      },
      "source": [
        "## Age of the Seafloor: Visualizing Distance vs. Age\n",
        "One of the most significant discoveries in geology is the relationship between the distance from a spreading center and the age of the seafloor. As new crust forms at the mid-ocean ridges, it moves away from the ridge, effectively aging as it moves further away.\n",
        "\n",
        "The image below displays the age of the oceanic lithosphere around the world. Notice how the youngest regions (depicted in red) align with the mid-ocean ridges, which are the active spreading centers.\n",
        "\n",
        "## Age of Oceanic Lithosphere\n",
        "\n",
        "The bands of alternating colors represent the age of the seafloor based on magnetic reversals. These age bands provide essential evidence for seafloor spreading and plate tectonics.\n",
        "\n",
        "## Plotting Distance vs. Age\n",
        "\n",
        "### 1. Scatter Plots of Distance vs. Age:\n",
        "\n",
        "We will now generate a scatter plot of Distance vs. Age using our synthetic data. This will allow us to observe the relationship more clearly and understand how the age of the seafloor increases as we move away from the spreading center."
      ]
    },
    {
      "cell_type": "code",
      "execution_count": null,
      "metadata": {
        "id": "MR-Y0XdHpiNj"
      },
      "outputs": [],
      "source": [
        "import matplotlib.pyplot as plt\n",
        "\n",
        "# Function to generate age for each magnetic reversal.\n",
        "# For simplicity, we'll assume that these reversals occur randomly between every 0.1 to 1 million years.\n",
        "def generate_ages(num_anomalies):\n",
        "    return np.cumsum(np.random.uniform(0.1, 1, num_anomalies))\n",
        "\n",
        "# Generate ages for our datasets\n",
        "slow_spreading_ages = generate_ages(len(slow_spreading_data))\n",
        "fast_spreading_ages = generate_ages(len(fast_spreading_data))\n",
        "\n",
        "# Function to plot distance vs age\n",
        "def plot_distance_vs_age(distance, age, title):\n",
        "    plt.figure(figsize=(12, 5))\n",
        "    plt.plot(distance, age, '-o', label='Age of Seafloor')\n",
        "    plt.xlabel('Distance from Ridge (km)')\n",
        "    plt.ylabel('Age (Million Years)')\n",
        "    plt.title(title)\n",
        "    plt.grid(True)\n",
        "    plt.legend()\n",
        "    plt.show()\n",
        "\n",
        "# Plot the data\n",
        "plt.figure(figsize=(10, 6))\n",
        "plt.scatter(slow_spreading_data['Distance_from_Ridge_km'], slow_spreading_ages, label='Slow Spreading Center', color='blue')\n",
        "plt.scatter(fast_spreading_data['Distance_from_Ridge_km'], fast_spreading_ages, label='Fast Spreading Center', color='red')\n",
        "plt.xlabel('Distance from Ridge (km)')\n",
        "plt.ylabel('Age (Million Years)')\n",
        "plt.title(f'Distance vs. Age for {first_name} {last_name} (netID: {netID})')\n",
        "plt.grid(True)\n",
        "plt.legend()\n",
        "plt.show()\n",
        "\n",
        "# Formulating a personalized filename for the image\n",
        "scatterplot_filename = f\"{first_name}_{last_name}_scatter_netID{netID}.jpg\"\n"
      ]
    },
    {
      "cell_type": "markdown",
      "metadata": {
        "id": "ZMgq23Miz-5i"
      },
      "source": [
        "## Analysis of Age vs. Distance from the Ridge Plot\n",
        "Based on the plot you've just created, please answer the following questions. Make sure to format your answers using text drop downs for each question:\n",
        "\n",
        "### Question 1\n",
        "Describe the general trend observed in the data. How does age vary with distance from the ridge for both the slow spreading center and the fast spreading center?"
      ]
    },
    {
      "cell_type": "markdown",
      "metadata": {
        "id": "5CjuUc050FCP"
      },
      "source": [
        "[Your answer to Question 1 here]"
      ]
    },
    {
      "cell_type": "markdown",
      "metadata": {
        "id": "vIfyGNSM0KBf"
      },
      "source": [
        "### Question 2\n",
        "At what approximate distance from the ridge do the age values of the slow spreading center and fast spreading center intersect? What might this indicate about the geological processes?"
      ]
    },
    {
      "cell_type": "markdown",
      "metadata": {
        "id": "U49KSuPX0Row"
      },
      "source": [
        "[Your answer to Question 2 here]"
      ]
    },
    {
      "cell_type": "markdown",
      "metadata": {
        "id": "GZdKaCMY0XT0"
      },
      "source": [
        "### Question 3\n",
        "Considering your knowledge from previous lessons and this synthetic data, how might the rate of seafloor spreading influence the observed age of the seafloor at varying distances from the ridge?"
      ]
    },
    {
      "cell_type": "markdown",
      "metadata": {
        "id": "q--1gMFo0Zav"
      },
      "source": [
        "[Your answer to Question 3 here]"
      ]
    },
    {
      "cell_type": "markdown",
      "metadata": {
        "id": "VZFWcvtD0VNr"
      },
      "source": []
    },
    {
      "cell_type": "markdown",
      "metadata": {
        "id": "jJnlPLLFvy_P"
      },
      "source": [
        "#### Multiple Choice\n",
        "\n",
        "What is the relationship between the distance from the ridge and the age of the oceanic lithosphere?\n"
      ]
    },
    {
      "cell_type": "code",
      "execution_count": null,
      "metadata": {
        "id": "-W1WWPgYv01u"
      },
      "outputs": [],
      "source": [
        "# Importing necessary libraries\n",
        "from IPython.core.display import display, HTML\n",
        "\n",
        "# The HTML and JavaScript code\n",
        "quiz_code = \"\"\"\n",
        "<div id=\"quiz-container\" style=\"font-size: 18px;\">\n",
        "    <p><strong>What is the relationship between the distance from the ridge and the age of the oceanic lithosphere?</strong></p>\n",
        "    <input type=\"radio\" name=\"quiz\" id=\"option1\" value=\"0\">\n",
        "    <label for=\"option1\">As the distance from the ridge increases, the age of the oceanic lithosphere decreases.</label><br>\n",
        "\n",
        "    <input type=\"radio\" name=\"quiz\" id=\"option2\" value=\"0\">\n",
        "    <label for=\"option2\">As the distance from the ridge decreases, the age of the oceanic lithosphere increases.</label><br>\n",
        "\n",
        "    <input type=\"radio\" name=\"quiz\" id=\"option3\" value=\"0\">\n",
        "    <label for=\"option3\">The age of the oceanic lithosphere remains constant regardless of the distance from the ridge.</label><br>\n",
        "\n",
        "    <input type=\"radio\" name=\"quiz\" id=\"option4\" value=\"1\">\n",
        "    <label for=\"option4\">As the distance from the ridge increases, the age of the oceanic lithosphere also increases.</label><br><br>\n",
        "\n",
        "    <button onclick=\"checkAnswer()\">Submit</button>\n",
        "    <p id=\"quiz-feedback\"></p>\n",
        "</div>\n",
        "\n",
        "<script>\n",
        "    function checkAnswer() {\n",
        "        let radios = document.getElementsByName(\"quiz\");\n",
        "        let feedback = document.getElementById(\"quiz-feedback\");\n",
        "\n",
        "        for(let i = 0; i < radios.length; i++) {\n",
        "            if(radios[i].checked && radios[i].value == \"1\") {\n",
        "                feedback.textContent = \"Correct!\";\n",
        "                feedback.style.color = \"green\";\n",
        "                return;\n",
        "            }\n",
        "        }\n",
        "        feedback.textContent = \"Try again.\";\n",
        "        feedback.style.color = \"red\";\n",
        "    }\n",
        "</script>\n",
        "\"\"\"\n",
        "\n",
        "# Displaying the HTML and JS content\n",
        "display(HTML(quiz_code))\n"
      ]
    },
    {
      "cell_type": "markdown",
      "metadata": {
        "id": "icnfWPSLpkSn"
      },
      "source": [
        "### 2. Contour Map of Seafloor:\n",
        "Now, we'll create a mirrored contour map. To do this, we need to:\n",
        "\n",
        "Duplicate the data and mirror it around the ridge axis.\n",
        "Generate a grid of points where we'll evaluate the age values.\n",
        "Interpolate the age values over the grid.\n",
        "Plot the contour map using a colormap similar to the attached example."
      ]
    },
    {
      "cell_type": "code",
      "execution_count": null,
      "metadata": {
        "id": "4B0SY0TfpPk3"
      },
      "outputs": [],
      "source": [
        "from matplotlib.colors import LinearSegmentedColormap\n",
        "from matplotlib import gridspec\n",
        "from scipy.interpolate import griddata\n",
        "\n",
        "# Modify the custom colormap\n",
        "colors = [(1, 0, 0),     # Red\n",
        "          (1, 0.5, 0),   # Orange\n",
        "          (1, 1, 0),     # Yellow\n",
        "          (0.5, 1, 0.5), # Light Green\n",
        "          (0, 0.5, 1),   # Light Blue\n",
        "          (0.5, 0, 0.5), # Violet\n",
        "          (0.2, 0.2, 0.2)] # Dark Gray (representing the oldest material)\n",
        "\n",
        "colormap = LinearSegmentedColormap.from_list(\"custom\", colors, N=256)\n",
        "\n",
        "# Sample data for the spreading rate\n",
        "distance_from_ridge = np.linspace(-500, 500, 100)\n",
        "\n",
        "# Create a grid for the entire map\n",
        "grid_x, grid_y = np.meshgrid(distance_from_ridge, distance_from_ridge)\n",
        "\n",
        "def expand_and_mirror_data(original_data):\n",
        "    # Expand data for all N-S values\n",
        "    expanded_data = pd.DataFrame({\n",
        "        'Distance_from_Ridge_km': np.tile(original_data['Distance_from_Ridge_km'].values, len(distance_from_ridge)),\n",
        "        'North_South_Distance_km': np.repeat(distance_from_ridge, len(original_data)),\n",
        "        'Age_mya': np.tile(original_data['Age_mya'].values, len(distance_from_ridge)),\n",
        "        # Add more columns here if needed\n",
        "    })\n",
        "\n",
        "    # Mirror the expanded data across x=0 for the ridge\n",
        "    mirrored_data = expanded_data.copy()\n",
        "    mirrored_data['Distance_from_Ridge_km'] = -mirrored_data['Distance_from_Ridge_km']\n",
        "\n",
        "    # Combine and return the data\n",
        "    return pd.concat([expanded_data, mirrored_data], ignore_index=True)\n",
        "\n",
        "\n",
        "def plot_seafloor_age(data, title, vmin, vmax, show_horizontal_colorbar=False):\n",
        "\n",
        "    grid_x = np.linspace(-1000, 1000, 100)\n",
        "    grid_y = np.linspace(-500, 500, 100)\n",
        "    mesh_x, mesh_y = np.meshgrid(grid_x, grid_y)\n",
        "    grid_z = griddata(data[['Distance_from_Ridge_km', 'North_South_Distance_km']].values, data['Age_mya'], (mesh_x, mesh_y), method='nearest')\n",
        "\n",
        "    fig = plt.figure(figsize=(10, 4))\n",
        "    if show_horizontal_colorbar:\n",
        "        spec = gridspec.GridSpec(ncols=1, nrows=2, height_ratios=[15, 1])\n",
        "    else:\n",
        "        spec = gridspec.GridSpec(ncols=1, nrows=1)\n",
        "\n",
        "    ax = fig.add_subplot(spec[0])\n",
        "\n",
        "    c = ax.contourf(grid_x, grid_y, grid_z, cmap=colormap, levels=100, vmin=0, vmax=vmax)\n",
        "\n",
        "    if show_horizontal_colorbar:\n",
        "        axins = fig.add_subplot(spec[1])\n",
        "        cbar = np.linspace(0, vmax, 1000).reshape(1, -1)\n",
        "        axins.imshow(cbar, aspect='auto', cmap=colormap, extent=[0, vmax, 0, 1])\n",
        "        axins.set_title('Age of Oceanic Lithosphere [m.y.]')\n",
        "        axins.set_yticks([])\n",
        "        age_ticks = list(range(0, int(vmax) + 10, 10))\n",
        "        axins.set_xticks(age_ticks)\n",
        "        axins.set_xticklabels(age_ticks)\n",
        "\n",
        "    ax.set_xlim(-1000, 1000)\n",
        "    ax.set_ylim(-500, 500)\n",
        "\n",
        "    ax.set_xlabel('Distance from Ridge (km)')\n",
        "    ax.set_ylabel('North-South Distance (km)')\n",
        "    ax.set_title(title)\n",
        "\n",
        "    plt.tight_layout()\n",
        "    plt.show()\n",
        "\n",
        "# Generate, expand and mirror the data for slow and fast spreading rates\n",
        "slow_spreading_data = generate_magnetic_data(spreading_rate=\"slow\")\n",
        "combined_slow_data = expand_and_mirror_data(slow_spreading_data)\n",
        "\n",
        "fast_spreading_data = generate_magnetic_data(spreading_rate=\"fast\")\n",
        "combined_fast_data = expand_and_mirror_data(fast_spreading_data)\n",
        "\n",
        "# Calculate the global vmin and vmax for both datasets\n",
        "vmin = 0  # Set vmin to 0\n",
        "vmax = max(combined_slow_data['Age_mya'].max(), combined_fast_data['Age_mya'].max())\n",
        "\n",
        "# For the first plot, set show_horizontal_colorbar to False\n",
        "plot_seafloor_age(combined_slow_data, \"Contour Map of Seafloor Age (Slow Spreading Rate)\", vmin, vmax)\n",
        "\n",
        "# For the second plot, set show_horizontal_colorbar to True\n",
        "plot_seafloor_age(combined_fast_data, \"Contour Map of Seafloor Age (Fast Spreading Rate)\", vmin, vmax, show_horizontal_colorbar=True)\n"
      ]
    },
    {
      "cell_type": "markdown",
      "metadata": {
        "id": "LnLwnutP1V_q"
      },
      "source": [
        "### Question 4:\n",
        "Based on the contour maps of seafloor age you've plotted using synthetic data:\n",
        "\n",
        "a. Describe the general trend of oceanic lithosphere age as one moves away from the ridge for both slow and fast spreading centers.\n"
      ]
    },
    {
      "cell_type": "markdown",
      "metadata": {
        "id": "LObdhNQf1kMB"
      },
      "source": [
        "Type your answer to Q4 here...\n"
      ]
    },
    {
      "cell_type": "markdown",
      "metadata": {
        "id": "H4JBBqxG1nZg"
      },
      "source": [
        "### Question 5:\n",
        "Which colors in your plots correspond to the youngest ages and which ones correspond to the oldest ages? How can you relate the color patterns to the spreading rates?\n"
      ]
    },
    {
      "cell_type": "markdown",
      "metadata": {
        "id": "Ilp_ef8z1pcw"
      },
      "source": [
        "Type your answer to Question 5here...\n"
      ]
    },
    {
      "cell_type": "markdown",
      "metadata": {
        "id": "K3rpwifl1svs"
      },
      "source": [
        "### Question 6:\n",
        "Visit the [map of seafloor lithosphere age](https://en.wikipedia.org/wiki/Seafloor_spreading#/media/File:Age_of_oceanic_lithosphere.png) and compare your 2 synthetic spreading centers against the Mid-Atlantic Ridge and East Pacific Rise. Which does the top plot remind you most of? And the bottom? Why?\n"
      ]
    },
    {
      "cell_type": "markdown",
      "metadata": {
        "id": "9yXgzi8z1vYM"
      },
      "source": [
        "Type your answer to Q6 here...\n"
      ]
    },
    {
      "cell_type": "markdown",
      "metadata": {
        "id": "wbncMcrd8VeN"
      },
      "source": [
        "## Submitting Your Work\n",
        "\n",
        "### Using Google Colab's GitHub Integration with GitHub Classroom\n",
        "\n",
        "To easily submit your work for this lab via GitHub Classroom and Google Colab's GitHub Integration, follow these steps:\n",
        "\n",
        "1. **Sign Your Work with Your Name and netID**:\n",
        "   - Before saving or submitting, ensure you have clearly signed your notebook. To do this, run the signature cell provided in the notebook.\n",
        "   - This cell will prompt you to input your first name, last name, and netID. Make sure to provide accurate information as this step is crucial for your instructor to match your GitHub account with your personal details.\n",
        "\n",
        "2. **Save Your Work in Colab**:\n",
        "   - Before proceeding, ensure you've saved the latest changes in your Colab notebook.\n",
        "   - You can do this using the `File > Save` menu or by pressing the `Ctrl + S` keyboard shortcut.\n",
        "\n",
        "3. **Link Colab to GitHub**:\n",
        "   - Navigate to the `File` option located at the top left corner of your Colab notebook.\n",
        "   - Select `Save a copy in GitHub` from the dropdown.\n",
        "   - If you're linking Colab with GitHub for the first time, you'll be prompted for permission. Grant the necessary permissions.\n",
        "\n",
        "4. **Commit to Your GitHub Classroom Repository**:\n",
        "   - A dialog box will appear after the above step.\n",
        "   - Choose your specific repository for this assignment from the dropdown (it should have been automatically created via GitHub Classroom).\n",
        "   - Type in a meaningful commit message. For this lab, something like \"Completed Lab 1\" would be fitting.\n",
        "\n",
        "5. **Verify Your Commit on GitHub**:\n",
        "   - Navigate to your GitHub repository for this assignment in a web browser.\n",
        "   - Confirm that your latest changes are visible and that the commit message you provided appears in the commit history.\n",
        "\n",
        "By following the above steps, you've successfully committed your assignment via GitHub Classroom. Your instructor will access and grade your submission directly through GitHub.\n"
      ]
    },
    {
      "cell_type": "markdown",
      "metadata": {},
      "source": []
    }
  ],
  "metadata": {
    "colab": {
      "collapsed_sections": [
        "t9ApxtbfuJ45"
      ],
      "provenance": []
    },
    "kernelspec": {
      "display_name": "Python 3",
      "name": "python3"
    },
    "language_info": {
      "codemirror_mode": {
        "name": "ipython",
        "version": 3
      },
      "file_extension": ".py",
      "mimetype": "text/x-python",
      "name": "python",
      "nbconvert_exporter": "python",
      "pygments_lexer": "ipython3",
      "version": "3.9.6"
    }
  },
  "nbformat": 4,
  "nbformat_minor": 0
}
