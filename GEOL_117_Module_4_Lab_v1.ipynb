{
  "cells": [
    {
      "cell_type": "markdown",
      "metadata": {
        "id": "E7dwcitP8wpQ"
      },
      "source": [
        "## Lab 4: Site Mapping for Your Final Project Region\n",
        "\n",
        "In Lab 4, you're tasked with creating a comprehensive site map for the geographic region you've chosen for your final project. Utilizing the Python programming language within a Jupyter Notebook environment, and with the aid of the Folium library, you will construct a detailed, informative, and visually striking map. Your map will be informed by data from the GEBCO dataset, which will aid in a deep understanding of both bathymetry and land terrain in your selected region.\n",
        "\n",
        "### Learning Outcomes\n",
        "\n",
        "Upon successful completion of this lab, you will have the skills to:\n",
        "\n",
        "- **Import Python Libraries**: Identify and import necessary Python libraries that will be used in the mapping process.\n",
        "- **Function Definition and Application**: Write Python functions to perform specific tasks and apply these functions effectively in your mapping.\n",
        "- **GEBCO Data Handling**: Retrieve GEBCO dataset from its repository and manipulate it to suit the needs of your geographic mapping.\n",
        "- **Map Customization**: Modify and enhance your map to meet the specific requirements of your final project, ensuring it is both informative and aesthetically pleasing.\n",
        "- **Bathymetric Data Interpretation**: Interpret GEBCO's gridded bathymetric data to accurately represent oceanic and landforms.\n",
        "\n",
        "### Introduction to Lab and GEBCO Data\n",
        "\n",
        "This lab introduces you to the indispensable GEBCO **Global ocean & land terrain models**, necessary for the creation of precise and comprehensive maps. The GEBCO_2023 Grid, which you will be using, offers a detailed global terrain model covering both ocean and land with elevation data in meters at a 15 arc-second interval grid.\n",
        "\n",
        "A notable feature of the GEBCO dataset is the Type Identifier (TID) Grid, which gives insights into the types of source data used for the main grid. This is particularly useful for mapping complex regions, such as areas with under-ice topographies in Greenland and Antarctica.\n",
        "\n",
        "Get ready to put your mapping skills into practice for your final project as we delve into GEBCO data and learn to harness the power of the Folium library in this lab.\n",
        "\n",
        "Let's get started with Lab 4 and create a standout site map for your project region!\n"
      ]
    },
    {
      "cell_type": "markdown",
      "metadata": {
        "id": "cDVoPyVpe7yI"
      },
      "source": [
        "## Step 1: Designing an Advanced Study Area Map\n",
        "\n",
        "Building on the skills developed earlier, this step involves creating a more advanced map for your final project study area. As you work towards your final project, you may find yourself assessing the myriad effects of climate change on particular regions.\n",
        "\n",
        "To effectively communicate these complexities in oceanographic and environmental studies, a well-structured map is crucial. Such maps provide the foundation for reports and presentations, offering a visual context to the discussed issues.\n",
        "\n",
        "Thankfully, with Python, you don't need to rely on expensive GIS software like ArcGIS. The Python ecosystem presents a wealth of geospatial tools and libraries that allow you to create and tailor maps to your specific needs.\n",
        "\n",
        "It's time to focus on designing a map that centers around your final project study area, demonstrating a rectangular study area. This exercise will equip you with the skills to produce an impactful map for your final project, potentially concerning a region similarly affected by climate change. You will be required to map your study area using tools like Google Maps or Google Earth to investigate your chosen final project area. Consider the extent of the region that will most effectively aid your final project's narrative and the impacts of climate change on this area. For instance, if your project discusses the effects on a particular metropolitan area or coral reef, ensure that the chosen region is not too expansive. Conversely, it should be focused enough to permit visibility of specific features pertinent to your final project.\n",
        "\n",
        "## Step 2: Defining Your Final Project Study Area and Marker\n",
        "\n",
        "With an understanding of the importance of a well-defined study area, you are now set to delineate the bounds of your selected region.\n",
        "\n",
        "The coordinates `('north', 'south', 'east', 'west')` represent the northernmost latitude, southernmost latitude, easternmost longitude, and westernmost longitude of your study area, respectively. Replace these placeholders with the boundary coordinates of your study area. These figures will establish a rectangular perimeter framing the scope of your study area on the map.\n",
        "\n",
        "Additionally, choose a significant point within your study area, such as a city or island, to serve as a marker point. Provide the coordinates for this marker, which will be used in your map to draw attention to this specific location."
      ]
    },
    {
      "cell_type": "code",
      "execution_count": null,
      "metadata": {
        "id": "zuuPMqNE9YmV"
      },
      "outputs": [],
      "source": [
        "# Define the latitude and longitude boundaries for the study area and the marker location\n",
        "north, south, east, west = 26, 25, -80, -81  # Example coordinates, replace with your own\n",
        "\n",
        "# Define the text variable for the marker name\n",
        "markername = 'Miami, FL'\n",
        "marker_coords = (25.7617, -80.1918)  # Example coordinates, replace with your own"
      ]
    },
    {
      "cell_type": "markdown",
      "metadata": {
        "id": "LPEDk5Ff9YmW"
      },
      "source": [
        "### Remember to replace <your_north_bound>, <your_south_bound>, <your_east_bound>, and <your_west_bound> with the actual coordinates for your study area, and <your_marker_latitude>, <your_marker_longitude> with the coordinates of your chosen marker location.\n",
        "\n",
        "Now, run the script below to generate a map for your region - adjust the parameters accordingly until you are happy with the map's extents."
      ]
    },
    {
      "cell_type": "code",
      "execution_count": null,
      "metadata": {
        "id": "362smoiY9guJ"
      },
      "outputs": [],
      "source": [
        "# Import required libraries\n",
        "import folium\n",
        "from folium.plugins import FastMarkerCluster, MeasureControl\n",
        "from folium import plugins\n",
        "\n",
        "# Create a map centered around Miami with slightly zoomed out view\n",
        "m = folium.Map(location=marker_coords, zoom_start=10, tiles=\"CartoDB positron\")  # Adjusted zoom level here\n",
        "\n",
        "# Add a marker for Miami\n",
        "folium.Marker(\n",
        "    marker_coords,\n",
        "    tooltip=markername,\n",
        "    icon=folium.Icon(color='blue', icon='cloud')\n",
        ").add_to(m)\n",
        "\n",
        "# Define the latitude and longitude boundaries for the pre-defined region\n",
        "north, south, east, west = 26, 25, -79, -81\n",
        "\n",
        "# Draw the pre-defined region on the map (with no fill, just an outline)\n",
        "folium.Rectangle(\n",
        "    bounds=[[south, west], [north, east]],\n",
        "    color=\"#ff7800\",\n",
        "    fill=False  # Removed fill color and opacity to just show the boundary line\n",
        ").add_to(m)\n",
        "\n",
        "# Add measure tool to the map, allowing for distance measurement\n",
        "m.add_child(MeasureControl())\n",
        "\n",
        "# Add a scale to the map\n",
        "folium.plugins.MiniMap(toggle_display=True).add_to(m)\n",
        "\n",
        "# Add a fullscreen button to the map\n",
        "plugins.Fullscreen(position='topright').add_to(m)\n",
        "\n",
        "# Add the tile layers\n",
        "folium.TileLayer('openstreetmap').add_to(m)\n",
        "folium.TileLayer('cartodb positron').add_to(m)\n",
        "folium.TileLayer('cartodb dark_matter').add_to(m)\n",
        "folium.TileLayer('stamenterrain').add_to(m)\n",
        "\n",
        "# Add layer control to switch between tile layers\n",
        "folium.LayerControl().add_to(m)\n",
        "\n",
        "# Display the map\n",
        "m\n"
      ]
    },
    {
      "cell_type": "markdown",
      "metadata": {
        "id": "OHIrZN9IFrji"
      },
      "source": [
        "## Step 3: Extracting Bathymetry Data from GEBCO for your study area\n",
        "\n",
        "To review from Lab 3, bathymetry data plays a crucial role in understanding and visualizing the impacts of climate change on coastal regions. By analyzing the seafloor's depth and its features, we can better predict how rising sea levels and increased storm intensity might affect our selected study area. With Miami being a coastal city, it's particularly important to visualize the surrounding underwater topography and grasp the potential risks that climate change may bring. Let's review he process of retrieving this vital data.\n",
        "\n",
        "---\n",
        "\n",
        "### **Navigate to GEBCO's Platform**\n",
        "\n",
        "Visit GEBCO's Gridded Bathymetry Data Download page:\n",
        "[GEBCO Gridded Bathymetry Data Download](https://www.download.gebco.net).\n",
        "\n",
        "---\n",
        "\n",
        "### **Grid Version Selection**\n",
        "\n",
        "From the \"SELECT GRID VERSION\" dropdown:\n",
        "- **Choose**: GEBCO 2023 (or the desired version).\n",
        "\n",
        "---\n",
        "\n",
        "### **Grid Boundaries Input**\n",
        "\n",
        "For your study on the waters surrounding Miami, use the boundaries from your study area (below are the ones from last week that you'll replace with your bounds):\n",
        "- **Top (Northernmost Latitude)**: 26\n",
        "- **Right (Easternmost Longitude)**: -79\n",
        "- **Bottom (Southernmost Latitude)**: 25\n",
        "- **Left (Westernmost Longitude)**: -81\n",
        "\n",
        "---\n",
        "\n",
        "### **Data Formats Selection**\n",
        "\n",
        "#### **2D netCDF**\n",
        "- **Selection**: ❌ (Unchecked)\n",
        "- **Rationale**: `netCDF` format is for multi-dimensional scientific data. Given its complex integration in Python, we'll avoid this format.\n",
        "\n",
        "#### **GeoTIFF**\n",
        "- **Selection**: ✅ (Checked)\n",
        "- **Rationale**: GeoTIFF is preferred due to its wide acceptance in the geospatial community and ease of integration with Python in Jupyter notebooks.\n",
        "\n",
        "#### **Esri ASCII**\n",
        "- **Selection**: ❌ (Unchecked)\n",
        "- **Rationale**: While Esri ASCII is compatible with Python, GeoTIFF remains our primary choice due to its compactness and efficiency.\n",
        "\n",
        "---\n",
        "\n",
        "### **Bathy-specific Formats**\n",
        "\n",
        "Specific options for the bathymetry grid:\n",
        "\n",
        "#### **Colour Map**\n",
        "- **Selection**: ❌ (Unchecked)\n",
        "- **Rationale**: As our focus is on data analysis, visual representation using a color map isn't necessary.\n",
        "\n",
        "#### **Shaded Relief**\n",
        "- **Selection**: ❌ (Unchecked)\n",
        "- **Rationale**: Shaded relief, while providing a 3D visualization, isn't necessary for our current analytical objectives.\n",
        "\n"
      ]
    },
    {
      "cell_type": "markdown",
      "metadata": {
        "id": "mPU9NfzpJRZc"
      },
      "source": [
        "## Step 4: Locating and Unzipping the Downloaded GEBCO Data\n",
        "\n",
        "To utilize the bathymetry data you've downloaded from GEBCO in Google CoLab, follow these instructions:\n",
        "\n",
        "---\n",
        "\n",
        "#### **Locate the Downloaded Zip File**\n",
        "\n",
        "1. Navigate to your default downloads directory or the location where you saved the file.\n",
        "2. Look for the file named `GEBCO_29_Oct_2023_a9f533f9897e.zip` (the name might vary based on the date and version you downloaded).\n",
        "a\n",
        "---\n",
        "\n",
        "#### **Unzip the GEBCO Data File**\n",
        "\n",
        "1. Right-click on the zip file `GEBCO_29_Oct_2023_a9f533f9897e.zip`.\n",
        "2. Choose the option to 'Extract All' or 'Unzip'. The exact wording will depend on your operating system.\n",
        "3. Select the destination folder or leave it as default. Once extraction is complete, a new folder should appear containing the `.tif` bathymetry file and additional documentation.\n",
        "\n",
        "---\n",
        "\n",
        "#### **Uploading the .tif File to Google CoLab**\n",
        "\n",
        "1. Open your Jupyter notebook on Google CoLab.\n",
        "2. In the left sidebar of CoLab, click on the folder icon to access the 'Files' section.\n",
        "3. Click on the 'Upload' button, and a file dialog will open.\n",
        "4. Navigate to the location where you extracted the GEBCO data and select the `.tif` file, which might be named something like `gebco_2023_n26.0_..._w-81.0_e-79.0.tif`.\n",
        "5. Wait for the upload to complete. Once done, the `.tif` file will be available for use in your CoLab notebook.\n",
        "\n",
        "---\n",
        "\n",
        "Proceed to the next step in the assignment where you'll utilize this bathymetry data for further analysis.\n"
      ]
    },
    {
      "cell_type": "markdown",
      "metadata": {
        "id": "7HB1tt4WK_sr"
      },
      "source": [
        "## Step 5: Visualizing the Bathymetry Data Using the `.tif` File\n",
        "\n",
        "Now that you have successfully uploaded the GEBCO bathymetry data to Google Colab, we will proceed to visualize this data and create a bathymetric map of the chosen geographic region.\n",
        "\n",
        "---\n",
        "\n",
        "## Import Necessary Libraries\n",
        "\n",
        "In this assignment, we aim to create a detailed bathymetric map of our chosen geographic region. Bathymetric maps represent the underwater topography of the ocean floor. To achieve this, we need to work with raster data, which is a pixel-based data structure used to represent spatial information.\n",
        "\n",
        "One of the most efficient Python libraries for reading and processing raster data is `rasterio`. Here's why we need `rasterio`:\n",
        "\n",
        "1. **Versatility with Raster Data**: `rasterio` simplifies the process of opening and reading the raster datasets, which are commonly used in bathymetric mapping.\n",
        "  \n",
        "2. **Geospatial Analysis**: Beyond just reading, `rasterio` supports various raster operations which are essential for geospatial analysis. This includes tasks like reprojecting and resampling.\n",
        "\n",
        "3. **Integration with Other Libraries**: It integrates well with other popular Python libraries such as NumPy for data manipulation, making it a suitable choice for our requirements.\n",
        "\n",
        "4. **Performance**: `rasterio` is built on top of GDAL, ensuring that our raster operations are not only accurate but also efficient.\n",
        "\n",
        "Before diving into the visualization process, it's crucial to have `rasterio` installed and ready to assist in our bathymetric mapping journey. Let's proceed by importing the necessary Python libraries:\n",
        "\n"
      ]
    },
    {
      "cell_type": "code",
      "execution_count": null,
      "metadata": {
        "id": "kk9lBeo2MBsU"
      },
      "outputs": [],
      "source": [
        "!pip install rasterio"
      ]
    },
    {
      "cell_type": "markdown",
      "metadata": {
        "id": "rBSNPVckODRE"
      },
      "source": [
        "To create a beautiful site map that integrates the GEBCO bathy data with land boundaries, cities, and other features, you will have to overlay your bathymetric data on top of the existing map you've created using folium. However, folium doesn't support direct integration of raster data (like GEBCO bathy data) out of the box.\n",
        "\n",
        "A more comprehensive approach involves the use of Geopandas for spatial operations, Rasterio for raster data manipulation, and other libraries like Matplotlib and Contextily to plot and overlay maps.\n"
      ]
    },
    {
      "cell_type": "markdown",
      "metadata": {
        "id": "d-bJlqIJLhBu"
      },
      "source": [
        "## Uploading Your Dataset to Google Colab\n",
        "\n",
        "For this exercise, you will be working with bathymetric data, which is typically provided in the `.tif` format. The dataset we're using comes from GEBCO (General Bathymetric Chart of the Oceans). If you have not already acquired a GEBCO dataset, please download it from their official site.\n",
        "\n",
        "Once you have your dataset ready, you'll need to upload it to Google Colab to proceed with the next steps in this assignment.\n",
        "\n",
        "### Steps to Upload Your Dataset:\n",
        "\n",
        "1. **Access the Files Pane**: On the left side of your Google Colab interface, you'll notice an icon that looks like a folder 📂. This is the \"Files\" tab. Click on it to access the file system of your current Colab session.\n",
        "\n",
        "2. **Drag and Drop**: With the \"Files\" pane open, you can simply drag your `.tif` dataset from your computer and drop it into the pane. This will start the uploading process. Depending on the size of your dataset and your internet speed, this might take a few seconds to a couple of minutes.\n",
        "\n",
        "3. **Check Upload Status**: Once the upload is complete, you should see your `.tif` file listed in the \"Files\" pane.\n",
        "\n",
        "4. **Proceed with the Exercise**: Now that your dataset is uploaded to Google Colab, you can reference it directly by its name in the upcoming code cells. The dataset is temporarily stored in this environment and will be available for the duration of your current session.\n",
        "\n",
        "> 📌 **Note**: Every time you start a new Google Colab session, you will need to re-upload your dataset, as uploaded files are not persistent across sessions.\n",
        "\n",
        "Now that your data is in place, let's dive into loading and visualizing it!\n",
        "\n",
        "---\n",
        "\n",
        "\n"
      ]
    },
    {
      "cell_type": "markdown",
      "metadata": {
        "id": "FZW7E7l_kEam"
      },
      "source": [
        "# Understanding the Raster Data and Defining the Region of Interest\n",
        "\n",
        "In the following code cell, we will be diving deep into our raster data, specifically the GEBCO bathymetry data, to understand its projection, range, and extent. Understanding the projection and extent of your data is crucial because it ensures that the data aligns correctly on a map. Proper alignment is essential for accurate geographical visualizations and analyses.\n",
        "\n",
        "Here's a breakdown of what each segment of the code achieves and the expected outputs:\n",
        "\n",
        "1. **Imports**: We start by importing necessary libraries like `rasterio`, `numpy`, and `geopandas` that will help us manipulate and analyze geospatial data.\n",
        "\n",
        "2. **Opening and Reading the Raster**: We open the GEBCO data using `rasterio` and read its first band, which contains the bathymetry values. Bathymetry values give us an idea of the underwater topography—think of it like a topographic map, but for underwater features.\n",
        "\n",
        "3. **Inspecting the Data Range**: We will print the minimum and maximum bathymetry values. This range gives us an idea of the depth variation in the selected region.\n",
        "\n",
        "4. **Checking for Missing Data**: We compute and print the number of NaN (Not a Number) values in the data. NaN values represent missing data. It's essential to be aware of any missing data as it can impact our analysis.\n",
        "\n",
        "5. **Extracting the Bounding Box**: We extract the bounding box of the data, which gives us the spatial extent of our raster data—specifically, the westernmost, southernmost, easternmost, and northernmost coordinates.\n",
        "\n",
        "6. **Defining a Region of Interest**: Using the extracted bounding box, we create a polygon that represents our predefined region of interest. This polygon will help in future steps when we want to focus our analysis or visualization on this specific region.\n",
        "\n",
        "7. **Creating a GeoDataFrame**: We convert the polygon into a GeoDataFrame, which makes it easier to work with and visualize using other geospatial tools.\n",
        "\n",
        "8. **Outputs**:\n",
        "   - A bounding box of the region of interest, which can be visualized on a map to understand the area we're focusing on.\n",
        "   - The EPSG code (in this case, \"EPSG:4326\"), which denotes the Coordinate Reference System (CRS) of the raster data. Understanding the CRS is crucial for ensuring our data aligns correctly on a map.\n",
        "\n",
        "By the end of this code, we'll have a clear understanding of the spatial range and projection of our data, setting the stage for subsequent analyses and visualizations.\n"
      ]
    },
    {
      "cell_type": "code",
      "execution_count": null,
      "metadata": {
        "id": "ncmWsJ15LxWm"
      },
      "outputs": [],
      "source": [
        "import rasterio\n",
        "import numpy as np\n",
        "import geopandas as gpd\n",
        "from shapely.geometry import Polygon\n",
        "\n",
        "# Open the GEBCO bathymetry data using rasterio - REPLACE THE FILENAME BELOW WITH YOUR FILENAME\n",
        "with rasterio.open('gebco_2023_n26.0_s25.0_w-81.0_e-79.0.tif') as src:\n",
        "    bathy_data = src.read(1)\n",
        "    transform = src.transform\n",
        "    print(src.bounds)\n",
        "    extent = [src.bounds.left, src.bounds.right, src.bounds.bottom, src.bounds.top]\n",
        "    print(bathy_data.min(), bathy_data.max())\n",
        "    print(np.isnan(bathy_data).sum())  # Number of NaN values\n",
        "\n",
        "# Extract the bounding box values\n",
        "west, south, east, north = extent[0], extent[2], extent[1], extent[3]\n",
        "\n",
        "# Create a polygon of the predefined region using the extracted bounds\n",
        "polygon = Polygon([(west, south), (west, north), (east, north), (east, south)])\n",
        "\n",
        "# Create a GeoDataFrame from the polygon\n",
        "gdf = gpd.GeoDataFrame({'geometry': [polygon]}, crs=\"EPSG:4326\")\n",
        "print(gdf.total_bounds)\n",
        "print(src.crs)\n"
      ]
    },
    {
      "cell_type": "markdown",
      "metadata": {
        "id": "J0IkNXM8jgYq"
      },
      "source": [
        "# Installing Libraries in Google Colab\n",
        "\n",
        "Google Colab offers a virtual environment where you can run Python code in an isolated workspace. This environment doesn't have every Python package installed by default, so sometimes we need to install additional packages to extend its capabilities. The command `!pip install` is used to install these packages.\n",
        "\n",
        "- `pip` stands for \"Pip Installs Packages\" and is a package manager for Python. When you use the `!` before a command in a Colab cell, it tells Colab to execute that command as a shell command (like you would in a terminal).\n",
        "\n",
        "### `contextily`\n",
        "\n",
        "- **Overview**: `contextily` is a library to retrieve tile maps from the internet. It allows you to easily add basemaps to your plots. Basemaps provide context for a plot, for instance, showing city names or country borders beneath your geospatial data.\n",
        "\n",
        "- **Usage in Miami, FL regional site map**: For the Miami regional map (and eventual final project maps), `contextily` can be used to fetch and display a basemap. This basemap will serve as a background layer, providing a geographical context to the plotted data. It can help the viewer to better understand the geographical distribution and relation of the data points.\n",
        "\n",
        "### `cartopy`\n",
        "\n",
        "- **Overview**: `cartopy` is a library for cartographic projections and geospatial data visualization. It makes it easy to create maps and plot geospatial data with Python.\n",
        "\n",
        "- **Usage in Miami, FL regional site map**: `cartopy` will be integral in the creation of the Miami regional map. It provides tools to transform and project your geospatial data, allowing you to visualize data in a way that is appropriate for its spatial distribution. For example, it will help us project our data into the Transverse Mercator CRS, which is suitable for mapping small regions. Additionally, `cartopy` offers various features to enhance our maps, such as adding coastlines, rivers, and political boundaries.\n",
        "\n",
        "In summary, both these libraries, `contextily` and `cartopy`, will be crucial for enhancing the quality and accuracy of your Miami, FL regional site map and any other geospatial visualizations you'll work on in your final projects.\n"
      ]
    },
    {
      "cell_type": "code",
      "execution_count": null,
      "metadata": {
        "id": "ue6KXv7NOmsD"
      },
      "outputs": [],
      "source": [
        "!pip install contextily"
      ]
    },
    {
      "cell_type": "code",
      "execution_count": null,
      "metadata": {
        "id": "_6ztubU61ZJX"
      },
      "outputs": [],
      "source": [
        "!pip install cartopy"
      ]
    },
    {
      "cell_type": "markdown",
      "metadata": {
        "id": "w64EDPu8i-so"
      },
      "source": [
        "# Geospatial Data Visualization of YOUR FINAL PROJECT Region\n",
        "\n",
        "In the following code cell, we'll be visualizing bathymetric data (depth of underwater features) of a region around your study site. The data comes from the GEBCO dataset and represents the underwater topography of your study area.\n",
        "\n",
        "### What to Expect:\n",
        "\n",
        "- **Importing Libraries**: We're using a combination of libraries to handle geospatial data and plotting. This includes `matplotlib`, `rasterio`, and `cartopy`.\n",
        "\n",
        "- **Data Processing**: We will load the GEBCO bathymetric data using `rasterio`, which allows us to work with geospatial raster data. Once loaded, we'll reproject this data into a Transverse Mercator Coordinate Reference System (CRS). This projection is appropriate for mapping small regions as it represents the shape of features relatively accurately.\n",
        "\n",
        "- **Visualization**: We will create a map plot showing the underwater depth using a terrain colormap. The deeper regions will appear in darker shades, whereas the shallower regions will appear in lighter shades.\n",
        "\n",
        "- **Labels and Colorbar**: The map will have a colorbar at the bottom indicating depth in meters.\n",
        "\n",
        "### Note:\n",
        "- **Runtime**: This code might take a few minutes to run, especially the first time, as it needs to load geospatial libraries and process the data. Please be patient.\n",
        "\n",
        "Now, let's dive into the code and visualize the underwater topography of your final project's region!\n"
      ]
    },
    {
      "cell_type": "code",
      "execution_count": null,
      "metadata": {
        "id": "446pQwl0WRg8"
      },
      "outputs": [],
      "source": [
        "import matplotlib.pyplot as plt\n",
        "import rasterio\n",
        "import cartopy.crs as ccrs\n",
        "import cartopy.feature as cfeature\n",
        "import numpy as np\n",
        "\n",
        "from rasterio.warp import calculate_default_transform, reproject, Resampling\n",
        "\n",
        "# Open the GEBCO data - REPLACE THE FILENAME BELOW WITH YOUR FILENAME!\n",
        "with rasterio.open('gebco_2023_n26.0_s25.0_w-81.0_e-79.0.tif') as src:\n",
        "    bathymetry = src.read(1)\n",
        "    raster_crs = src.crs\n",
        "    extent = [src.bounds[0], src.bounds[2], src.bounds[1], src.bounds[3]]\n",
        "\n",
        "# Approximate center of the region\n",
        "mean_lon = (extent[0] + extent[1]) / 2\n",
        "mean_lat = (extent[2] + extent[3]) / 2\n",
        "\n",
        "# Set up a Transverse Mercator CRS centered on the region\n",
        "projection = ccrs.TransverseMercator(central_longitude=mean_lon, central_latitude=mean_lat)\n",
        "\n",
        "# Reproject the bathymetry data to the Transverse Mercator CRS\n",
        "transform, width, height = calculate_default_transform(raster_crs, projection.proj4_params, src.width, src.height, *src.bounds)\n",
        "bathymetry_reprojected = np.empty((height, width), dtype=bathymetry.dtype)\n",
        "reproject(\n",
        "    source=bathymetry,\n",
        "    destination=bathymetry_reprojected,\n",
        "    src_transform=src.transform,\n",
        "    src_crs=src.crs,\n",
        "    dst_transform=transform,\n",
        "    dst_crs=projection.proj4_params,\n",
        "    resampling=Resampling.bilinear\n",
        ")\n",
        "\n",
        "# Calculate the extent of the reprojected data\n",
        "new_left = transform[2]\n",
        "new_right = transform[2] + transform[0] * width\n",
        "new_bottom = transform[5] + transform[4] * height\n",
        "new_top = transform[5]\n",
        "new_extent = [new_left, new_right, new_bottom, new_top]\n",
        "\n",
        "fig, ax = plt.subplots(figsize=(10, 10), subplot_kw={'projection': projection})\n",
        "\n",
        "# Adjust colormap and provide vmin and vmax for better color representation\n",
        "img = ax.imshow(bathymetry_reprojected, cmap='terrain', extent=new_extent, vmin=bathymetry_reprojected.min(), vmax=bathymetry_reprojected.max(), transform=projection)\n",
        "\n",
        "# Add land mask\n",
        "ax.add_feature(cfeature.LAND, edgecolor='black', facecolor='lightgray', zorder=2)\n",
        "\n",
        "# Add gridlines without labels\n",
        "ax.gridlines(crs=projection, linestyle='--', alpha=0.5)\n",
        "\n",
        "# Set the plot extent to match the reprojected raster's extent\n",
        "ax.set_extent(new_extent, crs=projection)\n",
        "\n",
        "# Position the colorbar closer to the x-axis label to minimize whitespace\n",
        "cbar_ax = fig.add_axes([0.25, 0.18, 0.5, 0.02])\n",
        "fig.colorbar(img, cax=cbar_ax, orientation='horizontal', label='Depth (m)')\n",
        "\n",
        "# Ticks for longitude and latitude based on the original bathymetry data extent\n",
        "delta_lon = 0.5  # Adjust as needed\n",
        "delta_lat = 0.5  # Adjust as needed\n",
        "lon_ticks = np.arange(extent[0], extent[1]+delta_lon, delta_lon)\n",
        "lat_ticks = np.arange(extent[2], extent[3]+delta_lat, delta_lat)\n",
        "\n",
        "# Create an inverse projection function from the map projection to geodetic\n",
        "projection_to_geodetic = projection.as_geodetic()\n",
        "\n",
        "# Calculate projected tick locations on the map projection\n",
        "x_ticks_projected = np.linspace(new_extent[0], new_extent[1], len(lon_ticks))\n",
        "y_ticks_projected = np.linspace(new_extent[2], new_extent[3], len(lat_ticks))\n",
        "\n",
        "# Convert these tick locations back to geodetic (lat/lon) for labeling\n",
        "lon_labels_projected = [projection_to_geodetic.transform_point(x, 0, projection)[0] for x in x_ticks_projected]\n",
        "lat_labels_projected = [projection_to_geodetic.transform_point(0, y, projection)[1] for y in y_ticks_projected]\n",
        "\n",
        "# Prepare labels for these tick locations\n",
        "lon_labels = [f\"{lon:.2f}°W\" if lon < 0 else f\"{lon:.2f}°E\" for lon in lon_labels_projected]\n",
        "lat_labels = [f\"{lat:.2f}°S\" if lat < 0 else f\"{lat:.2f}°N\" for lat in lat_labels_projected]\n",
        "\n",
        "# Set the ticks and labels\n",
        "ax.set_xticks(x_ticks_projected, crs=projection)\n",
        "ax.set_yticks(y_ticks_projected, crs=projection)\n",
        "ax.set_xticklabels(lon_labels)\n",
        "ax.set_yticklabels(lat_labels)\n",
        "\n",
        "# Add a title\n",
        "ax.set_title(\"Placeholder Title\", fontsize=20, fontweight='bold', loc='center')\n",
        "\n",
        "\n",
        "plt.show()\n"
      ]
    },
    {
      "cell_type": "markdown",
      "source": [
        "## Replace the \"Placeholder Title\"\n",
        "\n",
        "Replace the 'Placeholder Title' in the previous code with an appropriate title for your final project figure. I suggest using the topic and area that Prof. Pettijohn included in the tables for groups, in which final project topics+areas were included based on students' choices.\n",
        "\n",
        "## Saving the Figure to Google Colab Workspace\n",
        "\n",
        "In the following section of the Python code, we will save the generated map figure to a file within your Google Colab workspace. This file can be downloaded to your local system afterwards. Once downloaded, you may upload it to Canvas as part of your assignment submission.\n"
      ],
      "metadata": {
        "id": "GduZGvkPAmbY"
      }
    },
    {
      "cell_type": "code",
      "source": [
        "import datetime\n",
        "\n",
        "# Prompt the user for personal information\n",
        "first_name = input(\"Enter your first name: \")\n",
        "last_name = input(\"Enter your last name: \")\n",
        "netID = input(\"Enter your netID: \")\n",
        "\n",
        "# Create a timestamp\n",
        "timestamp = datetime.datetime.now().strftime(\"%Y%m%d-%H%M%S\")\n",
        "\n",
        "# Construct the filename with the personal information and timestamp\n",
        "filename = f\"{first_name}_{last_name}_{netID}_map_{timestamp}.png\"\n",
        "\n",
        "# Save the figure with this filename\n",
        "fig.savefig(filename, dpi=300, bbox_inches='tight')\n",
        "\n",
        "# Inform the user of the file name\n",
        "print(f\"Figure saved as: {filename}\")\n"
      ],
      "metadata": {
        "id": "lXpstBX-AnI9"
      },
      "execution_count": null,
      "outputs": []
    },
    {
      "cell_type": "markdown",
      "source": [
        "## Downloading the File for Submission\n",
        "\n",
        "To download the saved figure with your personal information and timestamp to your local system, follow these steps:\n",
        "\n",
        "1. Navigate to the file browser in Google Colab.\n",
        "2. Locate the file named after your details and timestamp (it will look something like `Justin_Pettijohn_jcpettij_map_20231104-154810.png`).\n",
        "3. Right-click on the file and select \"Download\".\n",
        "4. Save the file to your preferred location on your local system.\n",
        "5. Upload the saved file to Canvas as part of your assignment.\n",
        "\n",
        "Alternatively, you can use the code snippet provided in the previous cell to directly download the file from the Colab environment:\n"
      ],
      "metadata": {
        "id": "8bAa-2MDAtWp"
      }
    },
    {
      "cell_type": "code",
      "source": [
        "from google.colab import files\n",
        "files.download(filename)"
      ],
      "metadata": {
        "id": "YKBRt2hrA2UF"
      },
      "execution_count": null,
      "outputs": []
    },
    {
      "cell_type": "markdown",
      "source": [],
      "metadata": {
        "id": "2NJTHw9oB86u"
      }
    }
  ],
  "metadata": {
    "colab": {
      "provenance": []
    },
    "kernelspec": {
      "display_name": "Python 3",
      "name": "python3"
    },
    "language_info": {
      "codemirror_mode": {
        "name": "ipython",
        "version": 3
      },
      "file_extension": ".py",
      "mimetype": "text/x-python",
      "name": "python",
      "nbconvert_exporter": "python",
      "pygments_lexer": "ipython3",
      "version": "3.9.6"
    }
  },
  "nbformat": 4,
  "nbformat_minor": 0
}